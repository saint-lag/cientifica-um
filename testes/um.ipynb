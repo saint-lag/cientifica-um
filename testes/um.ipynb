{
  "cells": [
    {
      "cell_type": "markdown",
      "id": "819366b2-efde-456b-b632-40ee503c136c",
      "metadata": {
        "id": "819366b2-efde-456b-b632-40ee503c136c"
      },
      "source": [
        "# Computação Científica 1 - 2023.2 - Prof. Adriano Côrtes"
      ]
    },
    {
      "cell_type": "markdown",
      "id": "129ed291-1fac-437e-8e66-e1f89594c8bc",
      "metadata": {
        "tags": [],
        "id": "129ed291-1fac-437e-8e66-e1f89594c8bc"
      },
      "source": [
        "## Teste 1"
      ]
    },
    {
      "cell_type": "markdown",
      "id": "8ad0a842-4b99-46f0-8cf1-0d69c4ccf2fb",
      "metadata": {
        "id": "8ad0a842-4b99-46f0-8cf1-0d69c4ccf2fb"
      },
      "source": [
        "***"
      ]
    },
    {
      "cell_type": "markdown",
      "id": "572bac71-067a-412d-98e4-c9ae6d06429b",
      "metadata": {
        "id": "572bac71-067a-412d-98e4-c9ae6d06429b"
      },
      "source": [
        "### Questão 1\n",
        "Explique o comportamento (surpreendente?) do código abaixo"
      ]
    },
    {
      "cell_type": "code",
      "execution_count": null,
      "id": "9cef38e8-60ba-4d7c-a13a-cc354e0848a6",
      "metadata": {
        "tags": [],
        "id": "9cef38e8-60ba-4d7c-a13a-cc354e0848a6",
        "colab": {
          "base_uri": "https://localhost:8080/"
        },
        "outputId": "870a6353-4309-49d9-89dd-aa9688ac398f"
      },
      "outputs": [
        {
          "output_type": "execute_result",
          "data": {
            "text/plain": [
              "16.88210319127114"
            ]
          },
          "metadata": {},
          "execution_count": 17
        }
      ],
      "source": [
        "d = 8\n",
        "e = 2\n",
        "from math import *\n",
        "sqrt(d ** e)"
      ]
    },
    {
      "cell_type": "markdown",
      "source": [
        "Quando importamos o módulo _math_ depois de declarar as variáveis a serem usadas, o erro inesperado ocorre. Abaixo vemos como o comportamento é corrigo pela correta importação."
      ],
      "metadata": {
        "id": "PkTX7Jqm3jYj"
      },
      "id": "PkTX7Jqm3jYj"
    },
    {
      "cell_type": "code",
      "source": [
        "e == 2"
      ],
      "metadata": {
        "colab": {
          "base_uri": "https://localhost:8080/"
        },
        "id": "5_Tnj39H5xx0",
        "outputId": "799ea8a5-5208-4328-c4c5-e30dd89f6eb8"
      },
      "id": "5_Tnj39H5xx0",
      "execution_count": null,
      "outputs": [
        {
          "output_type": "execute_result",
          "data": {
            "text/plain": [
              "False"
            ]
          },
          "metadata": {},
          "execution_count": 23
        }
      ]
    },
    {
      "cell_type": "code",
      "source": [
        "from math import *\n",
        "d = 8\n",
        "e = 2\n",
        "sqrt(d ** e)"
      ],
      "metadata": {
        "colab": {
          "base_uri": "https://localhost:8080/"
        },
        "id": "a28W5WOc3bMI",
        "outputId": "b450bc14-76cd-4be9-96a0-a71a057c3391"
      },
      "id": "a28W5WOc3bMI",
      "execution_count": null,
      "outputs": [
        {
          "output_type": "execute_result",
          "data": {
            "text/plain": [
              "8.0"
            ]
          },
          "metadata": {},
          "execution_count": 18
        }
      ]
    },
    {
      "cell_type": "markdown",
      "source": [
        "Isso indica que uma das variáveis é redeclarada com a importação de _math_, sendo ela, *\"e\"* que recebe o valor de *\"math.e\"* (número de euler)"
      ],
      "metadata": {
        "id": "SzEv-Lb-6CD2"
      },
      "id": "SzEv-Lb-6CD2"
    },
    {
      "cell_type": "markdown",
      "id": "920b7bef-6265-4fb6-a12d-c54c2158de43",
      "metadata": {
        "id": "920b7bef-6265-4fb6-a12d-c54c2158de43"
      },
      "source": [
        "***"
      ]
    },
    {
      "cell_type": "markdown",
      "id": "1bf62f1f-2283-448d-929f-3d8cae6769e1",
      "metadata": {
        "tags": [],
        "id": "1bf62f1f-2283-448d-929f-3d8cae6769e1"
      },
      "source": [
        "### Questão 2\n",
        "Como sabemos números reais são representados no computador por números de precisão finita, os números em ponto-flutuante. No Python, assim como na maioria das outras linguagens de programação predomina o padrão IEEE-754, em particular a representação em precisão dupla (*double precision*) é o default em Python. Podemos investigar essas informações por meio do módulo `sys`. Essas informações estão atributo `sys.float_info`:"
      ]
    },
    {
      "cell_type": "code",
      "execution_count": null,
      "id": "0b698456-58bf-47fe-8ca0-ff5749d050e7",
      "metadata": {
        "tags": [],
        "id": "0b698456-58bf-47fe-8ca0-ff5749d050e7",
        "colab": {
          "base_uri": "https://localhost:8080/"
        },
        "outputId": "284ef304-09de-4636-e1f5-c674f16be60b"
      },
      "outputs": [
        {
          "output_type": "stream",
          "name": "stdout",
          "text": [
            "sys.float_info(max=1.7976931348623157e+308, max_exp=1024, max_10_exp=308, min=2.2250738585072014e-308, min_exp=-1021, min_10_exp=-307, dig=15, mant_dig=53, epsilon=2.220446049250313e-16, radix=2, rounds=1)\n",
            "O menor número representável em ponto-flutuante de precisão dupla é 2.2250738585072014e-308\n",
            "O maior número representável em ponto-flutuante de precisão dupla é 1.7976931348623157e+308\n"
          ]
        }
      ],
      "source": [
        "import sys\n",
        "print(sys.float_info)\n",
        "print('O menor número representável em ponto-flutuante de precisão dupla é {}'.format(sys.float_info.min))\n",
        "print('O maior número representável em ponto-flutuante de precisão dupla é {}'.format(sys.float_info.max))"
      ]
    },
    {
      "cell_type": "markdown",
      "id": "4c17553a-12f8-48d5-a344-4e923c86b0e4",
      "metadata": {
        "id": "4c17553a-12f8-48d5-a344-4e923c86b0e4"
      },
      "source": [
        "1. O que acontece se você tentar avaliar a expressão $e^{1000}$ que gera um número maior que o maior número representável?\n",
        "2. Como você calcularia a hipotenusa $c$ de um triângulo retângulo cujos catetos são $a = 1.5 \\times 10^{200}$ e $b = 3.5 \\times 10^{201}$? **Note que calcular $a^2$ e $b^2$ não é uma opção, como no item anterior**. Verifique seu resultado usando a função `math.hypot`"
      ]
    },
    {
      "cell_type": "markdown",
      "source": [
        "1. O seguinte erro aparece quando extrapolamos o maior número representável:"
      ],
      "metadata": {
        "id": "oEkr8Zh_64TK"
      },
      "id": "oEkr8Zh_64TK"
    },
    {
      "cell_type": "code",
      "source": [
        "\n",
        "from math import *\n",
        "x = 1000\n",
        "print(pow(e, x))\n",
        "\n",
        "# OverflowError: math range error"
      ],
      "metadata": {
        "colab": {
          "base_uri": "https://localhost:8080/",
          "height": 35
        },
        "id": "jRW6bHZ34czN",
        "outputId": "48c4762a-cb5e-4817-8dbb-d215152cdf8e"
      },
      "id": "jRW6bHZ34czN",
      "execution_count": null,
      "outputs": [
        {
          "output_type": "execute_result",
          "data": {
            "text/plain": [
              "'\\nfrom math import *\\nx = 1000\\nprint(pow(e, x)) \\n\\n'"
            ],
            "application/vnd.google.colaboratory.intrinsic+json": {
              "type": "string"
            }
          },
          "metadata": {},
          "execution_count": 26
        }
      ]
    },
    {
      "cell_type": "markdown",
      "id": "a89ef501-cab8-4b41-aaf1-8bef1cfb85c1",
      "metadata": {
        "id": "a89ef501-cab8-4b41-aaf1-8bef1cfb85c1"
      },
      "source": [
        "***"
      ]
    },
    {
      "cell_type": "markdown",
      "source": [
        "2."
      ],
      "metadata": {
        "id": "43a2kRqjCWAL"
      },
      "id": "43a2kRqjCWAL"
    },
    {
      "cell_type": "code",
      "source": [
        "from math import *\n",
        "\n",
        "a = 1.5 * (10**200)\n",
        "b = 3.5 * (10**201)\n",
        "c = hypot(a,b)\n",
        "\n",
        "# Matemáticamente podemos ignorar a expoente\n",
        "# (ambos com expoente em base 201)\n",
        "A = 0.15\n",
        "B = 3.5\n",
        "\n",
        "C = sqrt(pow(A,2) + pow(B,2))\n",
        "\n",
        "BASE = 10**201\n",
        "\n",
        "c == C*BASE\n",
        "\n"
      ],
      "metadata": {
        "colab": {
          "base_uri": "https://localhost:8080/"
        },
        "id": "IjC5AnW-7iCE",
        "outputId": "314360cc-40e5-47a9-f440-c20c7a238893"
      },
      "id": "IjC5AnW-7iCE",
      "execution_count": null,
      "outputs": [
        {
          "output_type": "execute_result",
          "data": {
            "text/plain": [
              "True"
            ]
          },
          "metadata": {},
          "execution_count": 50
        }
      ]
    },
    {
      "cell_type": "markdown",
      "id": "2de18d9d-86f3-4485-8f41-9a8793e7624a",
      "metadata": {
        "tags": [],
        "id": "2de18d9d-86f3-4485-8f41-9a8793e7624a"
      },
      "source": [
        "### Questão 3\n",
        "Usando uma tupla de strings com o nome dos dígitos de $0$ a $9$, crie um trecho de código em Python que imprima até a sétima casas decimais de $\\pi$ na forma de texto, como:\n",
        "\n",
        "`três ponto um quatro um cinco nove dois seis`"
      ]
    },
    {
      "cell_type": "code",
      "source": [
        "from math import *\n",
        "\n",
        "APPROX = 8\n",
        "PI = str(pi)[:APPROX]\n",
        "\n",
        "algarisms = ('zero','um','dois',\n",
        " 'três','quatro','cinco',\n",
        " 'seis','sete','oito','nove')\n",
        "\n",
        "def algarism_dict_function():\n",
        "  algarism_dict = {}\n",
        "  c = 0\n",
        "  while c <=9:\n",
        "    algarism_dict[str(c)] = algarisms[c]\n",
        "    c+=1\n",
        "  algarism_dict['.'] = 'ponto'\n",
        "  return algarism_dict\n",
        "\n",
        "\n",
        "algarisms_dict = algarism_dict_function()\n",
        "\n",
        "\n",
        "def main(x):\n",
        "  return ' '.join([algarisms_dict[i] for i in PI])\n",
        "\n",
        "\n",
        "\n",
        "main(PI)"
      ],
      "metadata": {
        "colab": {
          "base_uri": "https://localhost:8080/",
          "height": 35
        },
        "id": "5nkCF5U1DDP7",
        "outputId": "b657c890-dda1-488f-83eb-cbf28d25963d"
      },
      "id": "5nkCF5U1DDP7",
      "execution_count": null,
      "outputs": [
        {
          "output_type": "execute_result",
          "data": {
            "text/plain": [
              "'três ponto um quatro um cinco nove dois'"
            ],
            "application/vnd.google.colaboratory.intrinsic+json": {
              "type": "string"
            }
          },
          "metadata": {},
          "execution_count": 83
        }
      ]
    },
    {
      "cell_type": "markdown",
      "id": "88a9dbba-7afd-4822-b1cd-eae1f65f42c1",
      "metadata": {
        "id": "88a9dbba-7afd-4822-b1cd-eae1f65f42c1"
      },
      "source": [
        "***"
      ]
    },
    {
      "cell_type": "markdown",
      "id": "3236585d-097a-4ad4-a732-bab19db5610d",
      "metadata": {
        "id": "3236585d-097a-4ad4-a732-bab19db5610d"
      },
      "source": [
        "### Questão 4\n",
        "Escreva um trecho que código Python que imprima de maneira formatada (bonitinha) as oito primeiro linhas do triângulo de Pascal."
      ]
    },
    {
      "cell_type": "code",
      "source": [
        "from math import *\n",
        "\n",
        "ROWS = 8\n",
        "\n",
        "def n_choose_k(n,k):\n",
        "  return str(int(factorial(n)/(factorial(n-k)*factorial(k))))\n",
        "\n",
        "def pascal_triangle(rows):\n",
        "  data = {}\n",
        "  for i in range(rows):\n",
        "    data[i] = ([n_choose_k(i, j) for j in range(i+1)])\n",
        "  return data\n",
        "\n",
        "def main():\n",
        "  triangle = pascal_triangle(ROWS)\n",
        "  print('\\n'.join([' '.join(triangle[i]) for i in triangle]))\n",
        "\n",
        "\n",
        "main()"
      ],
      "metadata": {
        "colab": {
          "base_uri": "https://localhost:8080/"
        },
        "id": "BvX4-PYJykdB",
        "outputId": "3b36d3ff-1392-4e00-88bb-3c746868c135"
      },
      "id": "BvX4-PYJykdB",
      "execution_count": null,
      "outputs": [
        {
          "output_type": "stream",
          "name": "stdout",
          "text": [
            "1\n",
            "1 1\n",
            "1 2 1\n",
            "1 3 3 1\n",
            "1 4 6 4 1\n",
            "1 5 10 10 5 1\n",
            "1 6 15 20 15 6 1\n",
            "1 7 21 35 35 21 7 1\n"
          ]
        }
      ]
    },
    {
      "cell_type": "markdown",
      "id": "f797c81b-a92c-4b26-9ca5-33e5f52c6a46",
      "metadata": {
        "id": "f797c81b-a92c-4b26-9ca5-33e5f52c6a46"
      },
      "source": [
        "***"
      ]
    },
    {
      "cell_type": "markdown",
      "id": "1c6fd61e-1eff-499b-936c-25ebeecc244c",
      "metadata": {
        "id": "1c6fd61e-1eff-499b-936c-25ebeecc244c"
      },
      "source": [
        "### Questão 5\n",
        "1. Crie uma função que receba como entrada um número inteiro $N$ e retorna uma lista com os primeiros $N$ números de Fibonacci.\n",
        "2. A chamada [*lei de Benford*](https://pt.wikipedia.org/wiki/Lei_de_Benford) é uma lei baseada na observação sobre a frequência do primeiro dígito $d \\in \\{1,2,\\ldots,9\\}$ de uma determinada coleção de números (*data sets*). Segundo essa lei a distribuição logaritmica, portanto não-uniforme, dada por $$P(d) = \\log_{10} \\left( \\dfrac{d+1}{d} \\right),$$ ou seja, número começando com $1$ são mais frequentes que os começando com $2$, e assim em diante, com efeito temos aproximadamente\n",
        "\n",
        "| $d$ | $P(d)$ |\n",
        "|-----|--------|\n",
        "|1    | 0.301  |\n",
        "|2    | 0.176  |\n",
        "|3    | 0.125  |\n",
        "|4    | 0.097  |\n",
        "|5    | 0.079  |\n",
        "|6    | 0.067  |\n",
        "|7    | 0.058  |\n",
        "|8    | 0.051  |\n",
        "|9    | 0.046  |\n",
        "\n",
        "Usando a função criada no item anterior calcule a distribuição dos primeiros dígitos da sequência de Fibonacci para $N=500$ e $N=1000$, e avalie se ela segue a lei de Benford."
      ]
    },
    {
      "cell_type": "code",
      "source": [
        "# O(2^n)\n",
        "def fib(n):\n",
        "  if n <= 1:\n",
        "    return n\n",
        "  else:\n",
        "    return fib(n-1) + fib(n-2)\n",
        "\n",
        "# O(n)\n",
        "def fib_memo(n, memo={}):\n",
        "  if n in memo:\n",
        "    return memo[n]\n",
        "  elif n <= 1:\n",
        "    return n\n",
        "  else:\n",
        "    result = fib_memo(n-1, memo) + fib_memo(n-2, memo)\n",
        "    memo[n] = result\n",
        "    return result\n",
        "\n",
        "# O(n) with list\n",
        "def fib_iterative(n):\n",
        "  if n <= 1:\n",
        "    return n\n",
        "\n",
        "  fib = [0,1]\n",
        "  for i in range(2, n+1):\n",
        "    fib.append(fib[i-1]+fib[i-2])\n",
        "\n",
        "  return fib"
      ],
      "metadata": {
        "id": "JPnC_3sGc9OT"
      },
      "id": "JPnC_3sGc9OT",
      "execution_count": null,
      "outputs": []
    },
    {
      "cell_type": "code",
      "source": [
        "from math import *\n",
        "def benford():\n",
        "  table = {}\n",
        "  for d in range(1,10):\n",
        "    table[str(d)] = log10((d+1)/d)\n",
        "  return table\n",
        "\n",
        "benford_table = benford()\n",
        "benford_table"
      ],
      "metadata": {
        "colab": {
          "base_uri": "https://localhost:8080/"
        },
        "id": "-T3Izss6t5cn",
        "outputId": "c41aa166-f384-45de-9a14-5909c9c1fcd1"
      },
      "id": "-T3Izss6t5cn",
      "execution_count": null,
      "outputs": [
        {
          "output_type": "execute_result",
          "data": {
            "text/plain": [
              "{'1': 0.3010299956639812,\n",
              " '2': 0.17609125905568124,\n",
              " '3': 0.12493873660829992,\n",
              " '4': 0.09691001300805642,\n",
              " '5': 0.07918124604762482,\n",
              " '6': 0.06694678963061322,\n",
              " '7': 0.05799194697768673,\n",
              " '8': 0.05115252244738129,\n",
              " '9': 0.04575749056067514}"
            ]
          },
          "metadata": {},
          "execution_count": 3
        }
      ]
    },
    {
      "cell_type": "code",
      "source": [
        "num_500 = fib_iterative(500)\n",
        "num_1000 = fib_iterative(1000)"
      ],
      "metadata": {
        "id": "A3NG9_5hnYZS"
      },
      "id": "A3NG9_5hnYZS",
      "execution_count": null,
      "outputs": []
    },
    {
      "cell_type": "code",
      "source": [
        "REF = benford_table\n",
        "\n",
        "\n",
        "keys = list(str(i) for i in range(1,10))\n",
        "values = list(0 for i in range(1,10))\n",
        "\n",
        "counter = dict(zip(keys, values))\n",
        "\n",
        "def main(lst):\n",
        "  for i in range(len(lst)):\n",
        "    digit = str(lst[i])[0]\n",
        "    if digit in counter:\n",
        "      counter[digit] += 1\n",
        "\n",
        "  for i in keys:\n",
        "    counter[i] = counter[i]/len(lst)\n",
        "\n",
        "  return counter\n",
        "\n",
        "A = main(num_500)\n",
        "B = main(num_1000)\n"
      ],
      "metadata": {
        "id": "268ArxC9vsm7"
      },
      "id": "268ArxC9vsm7",
      "execution_count": null,
      "outputs": []
    },
    {
      "cell_type": "code",
      "source": [
        "A"
      ],
      "metadata": {
        "colab": {
          "base_uri": "https://localhost:8080/"
        },
        "id": "BM_p4-9yFe0Z",
        "outputId": "6b2dbd0c-92f6-4876-8dad-c73a077192be"
      },
      "id": "BM_p4-9yFe0Z",
      "execution_count": null,
      "outputs": [
        {
          "output_type": "execute_result",
          "data": {
            "text/plain": [
              "{'1': 0.30100039680878005,\n",
              " '2': 0.17699865005254226,\n",
              " '3': 0.12500074775523878,\n",
              " '4': 0.09599781456068882,\n",
              " '5': 0.0799998404788824,\n",
              " '6': 0.06699886939407897,\n",
              " '7': 0.05600188234918774,\n",
              " '8': 0.05300089132424462,\n",
              " '9': 0.044998913262386316}"
            ]
          },
          "metadata": {},
          "execution_count": 160
        }
      ]
    },
    {
      "cell_type": "code",
      "source": [
        "B"
      ],
      "metadata": {
        "colab": {
          "base_uri": "https://localhost:8080/"
        },
        "id": "hbhHLyHIFgct",
        "outputId": "feb9f639-3745-4667-f0b5-2cbd45e552ef"
      },
      "id": "hbhHLyHIFgct",
      "execution_count": null,
      "outputs": [
        {
          "output_type": "execute_result",
          "data": {
            "text/plain": [
              "{'1': 0.30100039680878005,\n",
              " '2': 0.17699865005254226,\n",
              " '3': 0.12500074775523878,\n",
              " '4': 0.09599781456068882,\n",
              " '5': 0.0799998404788824,\n",
              " '6': 0.06699886939407897,\n",
              " '7': 0.05600188234918774,\n",
              " '8': 0.05300089132424462,\n",
              " '9': 0.044998913262386316}"
            ]
          },
          "metadata": {},
          "execution_count": 161
        }
      ]
    },
    {
      "cell_type": "code",
      "source": [
        "import matplotlib.pyplot as plt\n",
        "\n",
        "keys_A = list(A.keys())\n",
        "keys_B = list(REF.keys())\n",
        "\n",
        "values_A = list(A.values())\n",
        "values_B = list(REF.values())\n",
        "\n",
        "fig, ax = plt.subplots()\n",
        "\n",
        "pos_A = range(len(keys_A))\n",
        "pos_B = [p + 0.2 for p in pos_A]\n",
        "\n",
        "ax.bar(pos_A, values_A, width=0.4, label='fib(500)')\n",
        "ax.bar(pos_B, values_B, width=0.4, label=\"Bernford's Law\")\n",
        "\n",
        "ax.set_xticks([p + 0.2 for p in pos_A])\n",
        "ax.set_xticklabels(keys_A)\n",
        "ax.set_xlabel('k')\n",
        "ax.set_ylabel('P_k')\n",
        "ax.set_title(\"First Digit Distribution\")\n",
        "ax.legend()\n",
        "\n",
        "plt.show"
      ],
      "metadata": {
        "colab": {
          "base_uri": "https://localhost:8080/",
          "height": 489
        },
        "id": "7Dq34nF64zLi",
        "outputId": "3404dfd8-0346-46b7-a65f-1241d6f22f56"
      },
      "id": "7Dq34nF64zLi",
      "execution_count": null,
      "outputs": [
        {
          "output_type": "execute_result",
          "data": {
            "text/plain": [
              "<function matplotlib.pyplot.show(close=None, block=None)>"
            ]
          },
          "metadata": {},
          "execution_count": 6
        },
        {
          "output_type": "display_data",
          "data": {
            "text/plain": [
              "<Figure size 640x480 with 1 Axes>"
            ],
            "image/png": "[encoded data removed]"
          },
          "metadata": {}
        }
      ]
    },
    {
      "cell_type": "code",
      "source": [
        "import matplotlib.pyplot as plt\n",
        "\n",
        "keys_A = list(B.keys())\n",
        "keys_B = list(REF.keys())\n",
        "\n",
        "values_A = list(B.values())\n",
        "values_B = list(REF.values())\n",
        "\n",
        "fig, ax = plt.subplots()\n",
        "\n",
        "pos_A = range(len(keys_A))\n",
        "pos_B = [p + 0.2 for p in pos_A]\n",
        "\n",
        "ax.bar(pos_A, values_A, width=0.4, label='fib(1000)')\n",
        "ax.bar(pos_B, values_B, width=0.4, label=\"Bernford's Law\")\n",
        "\n",
        "ax.set_xticks([p + 0.2 for p in pos_A])\n",
        "ax.set_xticklabels(keys_A)\n",
        "ax.set_xlabel('k')\n",
        "ax.set_ylabel('P_k')\n",
        "ax.set_title(\"First Digit Distribution\")\n",
        "ax.legend()\n",
        "\n",
        "plt.show"
      ],
      "metadata": {
        "colab": {
          "base_uri": "https://localhost:8080/",
          "height": 489
        },
        "id": "6QkIn5V_6Y9J",
        "outputId": "e55efd14-62ef-415c-f9e8-4cd7256b0371"
      },
      "id": "6QkIn5V_6Y9J",
      "execution_count": null,
      "outputs": [
        {
          "output_type": "execute_result",
          "data": {
            "text/plain": [
              "<function matplotlib.pyplot.show(close=None, block=None)>"
            ]
          },
          "metadata": {},
          "execution_count": 7
        },
        {
          "output_type": "display_data",
          "data": {
            "text/plain": [
              "<Figure size 640x480 with 1 Axes>"
            ],
            "image/png": "[encoded data removed]"
          },
          "metadata": {}
        }
      ]
    },
    {
      "cell_type": "markdown",
      "id": "c498c212-85dc-40df-894f-b3fa60f0024e",
      "metadata": {
        "id": "c498c212-85dc-40df-894f-b3fa60f0024e"
      },
      "source": [
        "***"
      ]
    },
    {
      "cell_type": "markdown",
      "id": "0b700d9a-a6db-48d6-a78e-1aed8bd8d805",
      "metadata": {
        "id": "0b700d9a-a6db-48d6-a78e-1aed8bd8d805"
      },
      "source": [
        "### Questão 6\n",
        "Escreva um loop usando `while` para calcular a [média aritmética-geometrica](https://en.wikipedia.org/wiki/Arithmetic%E2%80%93geometric_mean) (AGM) de dois números reais positivos, $x$ e $y$, definida como o limite das sequência:\n",
        "\n",
        "$$\n",
        "\\begin{align}\n",
        "a_{n+1} &= \\frac{1}{2} (a_n + g_n), \\\\\n",
        "g_{n+1} &= \\sqrt{a_n g_n},\n",
        "\\end{align}\n",
        "$$\n",
        "\n",
        "começando com $a_0 = x$ e $g_0 = y$. Ambas as sequências convergem para o mesmo número, denotado por $\\textrm{agm}(x,y)$. Use sua implementação para calcular a constante de *Gauss*, $G = 1/\\textrm{agm}(1,\\sqrt{2})$.\n",
        "\n",
        "**Importante:** Você terá que usar um critério de parada para iteração."
      ]
    },
    {
      "cell_type": "code",
      "source": [
        "from math import *\n",
        "\n",
        "STOP = 100\n",
        "\n",
        "def a_mean(x,y):\n",
        "  return (1/2)*(x+y)\n",
        "\n",
        "def g_mean(x,y):\n",
        "  return sqrt(x*y)\n",
        "\n",
        "def agm(x,y):\n",
        "  c = 1\n",
        "  AG = {0: [x,y]}\n",
        "\n",
        "  a,g = x,y\n",
        "\n",
        "  while c <= STOP:\n",
        "    temp_a = a_mean(a,g)\n",
        "\n",
        "    g = g_mean(a,g)\n",
        "    a = temp_a\n",
        "\n",
        "    AG[c] = [a,g]\n",
        "\n",
        "    c+=1\n",
        "\n",
        "  return AG[STOP][0]\n",
        "\n",
        "# Constante de Gauss\n",
        "G = 1/(agm(1,sqrt(2)))\n",
        "print(G)\n"
      ],
      "metadata": {
        "colab": {
          "base_uri": "https://localhost:8080/"
        },
        "id": "aseybhy69kl_",
        "outputId": "55cc47bb-e152-43bf-c064-f6e89b0cbb06"
      },
      "id": "aseybhy69kl_",
      "execution_count": null,
      "outputs": [
        {
          "output_type": "stream",
          "name": "stdout",
          "text": [
            "0.8346268416740731\n"
          ]
        }
      ]
    },
    {
      "cell_type": "markdown",
      "id": "7cb4cb89-8222-4e73-afa1-223b38f64b41",
      "metadata": {
        "id": "7cb4cb89-8222-4e73-afa1-223b38f64b41"
      },
      "source": [
        "***"
      ]
    }
  ],
  "metadata": {
    "kernelspec": {
      "display_name": "Python 3 (ipykernel)",
      "language": "python",
      "name": "python3"
    },
    "language_info": {
      "codemirror_mode": {
        "name": "ipython",
        "version": 3
      },
      "file_extension": ".py",
      "mimetype": "text/x-python",
      "name": "python",
      "nbconvert_exporter": "python",
      "pygments_lexer": "ipython3",
      "version": "3.11.4"
    },
    "colab": {
      "provenance": []
    }
  },
  "nbformat": 4,
  "nbformat_minor": 5
}